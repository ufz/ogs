{
 "cells": [
  {
   "cell_type": "markdown",
   "metadata": {},
   "source": [
    "# Test Notebook assertion for testrunner\n",
    "\n",
    "A notebook test will fail with `assert False` or `raise SystemExit()`."
   ]
  },
  {
   "cell_type": "code",
   "execution_count": null,
   "metadata": {},
   "outputs": [],
   "source": [
    "raise AssertionError()\n",
    "\n",
    "# This line will not be reached but would also work:\n",
    "raise SystemExit()"
   ]
  }
 ],
 "metadata": {
  "language_info": {
   "name": "python"
  },
  "orig_nbformat": 4
 },
 "nbformat": 4,
 "nbformat_minor": 2
}
