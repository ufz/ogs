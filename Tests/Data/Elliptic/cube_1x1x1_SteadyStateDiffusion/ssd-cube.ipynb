{
 "cells": [
  {
   "cell_type": "raw",
   "id": "34c87f77-b604-4200-b102-da8290ef81b3",
   "metadata": {},
   "source": [
    "title = \"SteadyStateDiffusion Cube Test\"\n",
    "date = \"2021-11-09\"\n",
    "author = \"Lars Bilke\"\n",
    "web_subsection = \"elliptic\"\n",
    "draft = true\n",
    "<!--eofm-->\n"
   ]
  },
  {
   "cell_type": "markdown",
   "id": "35326dbe",
   "metadata": {},
   "source": [
    "This notebook is just for testing and does not show up on the web page because `draft = true` in the metadata."
   ]
  },
  {
   "cell_type": "code",
   "execution_count": 5,
   "id": "59877add-6b0e-4ee4-9bca-301ea5c23f6d",
   "metadata": {
    "lines_to_next_cell": 2
   },
   "outputs": [],
   "source": [
    "import os\n",
    "\n",
    "# On CI out_dir is set to the notebooks directory inside the build directory\n",
    "# similar to regular benchmark tests. On local testing it will output to the\n",
    "# notebooks source directory under a _out-subdirectory.\n",
    "out_dir = os.environ.get(\"OGS_TESTRUNNER_OUT_DIR\", \"_out\")\n",
    "if not os.path.exists(out_dir):\n",
    "    os.makedirs(out_dir)\n",
    "\n",
    "import pyvista as pv\n",
    "\n",
    "if \"CI\" in os.environ:\n",
    "    pv.set_jupyter_backend(\"static\")\n",
    "else:\n",
    "    pv.set_jupyter_backend(\"client\")"
   ]
  },
  {
   "cell_type": "code",
   "execution_count": 14,
   "id": "6c5503b0-ba41-4273-b19a-0fafdb717bb0",
   "metadata": {
    "lines_to_next_cell": 2
   },
   "outputs": [],
   "source": [
    "resolution = \"2e4\"\n",
    "! ogs cube_{resolution}.prj -o {out_dir} > {out_dir}/log.txt"
   ]
  },
  {
   "cell_type": "code",
   "execution_count": 15,
   "id": "163daab9-0dda-4926-9ab1-863c3b18fed7",
   "metadata": {},
   "outputs": [
    {
     "data": {
      "application/vnd.jupyter.widget-view+json": {
       "model_id": "482459c24fde43e78fbde77df233ec69",
       "version_major": 2,
       "version_minor": 0
      },
      "text/plain": [
       "Widget(value=\"<iframe src='http://localhost:53356/index.html?ui=P_0x152211ed0_0&reconnect=auto' style='width: …"
      ]
     },
     "metadata": {},
     "output_type": "display_data"
    }
   ],
   "source": [
    "reader = pv.get_reader(f\"{out_dir}/cube_{resolution}.pvd\")\n",
    "reader.set_active_time_value(1.0)  # go to 1 s\n",
    "mesh = reader.read()[0]\n",
    "\n",
    "plotter = pv.Plotter(notebook=True)\n",
    "plotter.add_mesh(mesh, scalars=\"v\")  # pressure\n",
    "plotter.show()"
   ]
  }
 ],
 "metadata": {
  "kernelspec": {
   "display_name": "Python 3 (ipykernel)",
   "language": "python",
   "name": "python3"
  },
  "language_info": {
   "codemirror_mode": {
    "name": "ipython",
    "version": 3
   },
   "file_extension": ".py",
   "mimetype": "text/x-python",
   "name": "python",
   "nbconvert_exporter": "python",
   "pygments_lexer": "ipython3",
   "version": "3.11.3"
  }
 },
 "nbformat": 4,
 "nbformat_minor": 5
}
