{
 "cells": [
  {
   "cell_type": "raw",
   "id": "7946bd1a",
   "metadata": {},
   "source": [
    "+++\n",
    "title = \"Check point cloud\"\n",
    "author = \"Christoph Lehmann\"\n",
    "note = Dummy frontmatter, for CI testing only\n",
    "+++\n"
   ]
  },
  {
   "cell_type": "markdown",
   "id": "5867da3a-7df9-4467-a43b-1f63151d45a9",
   "metadata": {},
   "source": [
    "This notebook checks that the reference results for the `ipDataToPointCloud` tool are correct."
   ]
  },
  {
   "cell_type": "code",
   "execution_count": 1,
   "id": "47ccfbbb-5313-4bb7-bb5c-de1c5a438183",
   "metadata": {},
   "outputs": [],
   "source": [
    "import numpy as np\n",
    "import pyvista as pv"
   ]
  },
  {
   "cell_type": "code",
   "execution_count": 2,
   "id": "cd7d62a9-c94e-4ce1-b48e-b1e3c9a0042d",
   "metadata": {},
   "outputs": [],
   "source": [
    "def check_ip_data(mesh, point_cloud, field_name):\n",
    "    # kept name \"sigma_ip\", although it might also be \"epsilon_ip\" or something completely different\n",
    "    sigma_ip_field = mesh.field_data[field_name]\n",
    "    sigma_ip_point = point_cloud.point_data[field_name]\n",
    "\n",
    "    num_ips = sigma_ip_field.shape[0]\n",
    "\n",
    "    # check that each IP corresponds to a point in the point cloud\n",
    "    assert num_ips == point_cloud.n_points\n",
    "\n",
    "    # check that values of sigma_ip are equal\n",
    "    assert np.allclose(sigma_ip_field, sigma_ip_point, atol=1e-15, rtol=0)\n",
    "\n",
    "\n",
    "def check_all_points_enclosed_by_mesh_surface_3D(mesh, point_cloud):\n",
    "    surface = mesh.extract_surface()\n",
    "    points_in_mesh = point_cloud.select_enclosed_points(surface)\n",
    "\n",
    "    # check that each point in the point cloud is contained in the \"original\" mesh\n",
    "    assert points_in_mesh.n_points == point_cloud.n_points\n",
    "\n",
    "\n",
    "def check_all_points_inside_bbox_2D(mesh, point_cloud):\n",
    "    xmin, xmax, ymin, ymax, zmin, zmax = mesh.bounds\n",
    "\n",
    "    assert zmin == 0.0 and zmax == 0.0  # make sure we are in 2D\n",
    "\n",
    "    assert np.all(point_cloud.points[:, 0] > xmin)\n",
    "    assert np.all(point_cloud.points[:, 0] < xmax)\n",
    "    assert np.all(point_cloud.points[:, 1] > ymin)\n",
    "    assert np.all(point_cloud.points[:, 1] < ymax)"
   ]
  },
  {
   "cell_type": "markdown",
   "id": "a82f0c76-5cab-4f7e-8d2d-07d676d6ce8b",
   "metadata": {},
   "source": [
    "# Mixed element test"
   ]
  },
  {
   "cell_type": "code",
   "execution_count": 3,
   "id": "33ca2a9b-d38e-4c2f-a1c3-106ffceb04b9",
   "metadata": {
    "lines_to_next_cell": 2
   },
   "outputs": [],
   "source": [
    "mesh = pv.read(\"mesh_with_3D_different_elements_sigma_ip.vtu\")\n",
    "point_cloud = pv.read(\"mesh_with_3D_different_elements_sigma_ip_point_cloud.vtu\")\n",
    "\n",
    "check_ip_data(mesh, point_cloud, \"sigma_ip\")\n",
    "check_all_points_enclosed_by_mesh_surface_3D(mesh, point_cloud)"
   ]
  },
  {
   "cell_type": "markdown",
   "id": "1a4551f6-5988-410d-83bf-2e8cef033dac",
   "metadata": {},
   "source": [
    "# Tri and quad mesh test"
   ]
  },
  {
   "cell_type": "code",
   "execution_count": 4,
   "id": "bc31ddb1-79c0-486f-bf36-717ffabcd205",
   "metadata": {
    "lines_to_next_cell": 2
   },
   "outputs": [],
   "source": [
    "mesh = pv.read(\"TriQuad/quad_tri_THM_t_864000_000000.vtu\")\n",
    "point_cloud = pv.read(\"TriQuad/quad_tri_THM_t_864000_000000_point_cloud.vtu\")\n",
    "\n",
    "check_ip_data(mesh, point_cloud, \"sigma_ip\")\n",
    "check_ip_data(mesh, point_cloud, \"epsilon_ip\")\n",
    "\n",
    "check_all_points_inside_bbox_2D(mesh, point_cloud)"
   ]
  },
  {
   "cell_type": "markdown",
   "id": "5c573198-0ec4-426a-8962-958533164273",
   "metadata": {
    "lines_to_next_cell": 2
   },
   "source": [
    "# m1_3Dsquare test"
   ]
  },
  {
   "cell_type": "code",
   "execution_count": 5,
   "id": "de8879ef-eb71-425e-9c25-b39abc02085b",
   "metadata": {
    "lines_to_next_cell": 2
   },
   "outputs": [],
   "source": [
    "def set_integration_order_to_3(path):\n",
    "    mesh = pv.read(path)\n",
    "\n",
    "    import json\n",
    "\n",
    "    ip_meta_str = bytes(mesh.field_data[\"IntegrationPointMetaData\"]).decode(\"utf-8\")\n",
    "    ip_meta = json.loads(ip_meta_str)\n",
    "    ip_meta[\"integration_point_arrays\"][0][\"integration_order\"] = 3\n",
    "    ip_meta\n",
    "    ip_meta_str = json.dumps(ip_meta)\n",
    "    ip_meta_str.encode(\"utf-8\")\n",
    "\n",
    "    mesh.field_data[\"IntegrationPointMetaData\"] = np.frombuffer(\n",
    "        ip_meta_str.encode(\"utf-8\"), dtype=np.int8\n",
    "    )\n",
    "\n",
    "    mesh.save(path)\n",
    "\n",
    "\n",
    "# Before 2022-10 the integration point meta data was wrong.\n",
    "# This function can be used to correct it.\n",
    "# set_integration_order_to_3(\"../../../Mechanics/m1_3Dsquare/m1_3Dsquare_ts_1_t_1.000000.vtu\")"
   ]
  },
  {
   "cell_type": "code",
   "execution_count": 6,
   "id": "ed800430-f902-4b16-8b39-44d9fb768b4e",
   "metadata": {
    "lines_to_next_cell": 2
   },
   "outputs": [],
   "source": [
    "mesh = pv.read(\"../../../Mechanics/m1_3Dsquare/m1_3Dsquare_ts_1_t_1.000000.vtu\")\n",
    "point_cloud = pv.read(\n",
    "    \"../../../Mechanics/m1_3Dsquare/m1_3Dsquare_ts_1_t_1.000000_point_cloud.vtu\"\n",
    ")\n",
    "\n",
    "check_ip_data(mesh, point_cloud, \"sigma_ip\")\n",
    "check_all_points_enclosed_by_mesh_surface_3D(mesh, point_cloud)"
   ]
  },
  {
   "cell_type": "markdown",
   "id": "896c5b42-2425-4ba4-ab90-81f5268291b8",
   "metadata": {},
   "source": [
    "## Check linear stress distribution"
   ]
  },
  {
   "cell_type": "code",
   "execution_count": 8,
   "id": "06b37fe2-0ca0-493a-8989-099b2f703d9e",
   "metadata": {
    "lines_to_next_cell": 2
   },
   "outputs": [],
   "source": [
    "import matplotlib.pyplot as plt"
   ]
  },
  {
   "cell_type": "code",
   "execution_count": 9,
   "id": "d78f6d04-9534-4803-a923-c6eb8327c3a0",
   "metadata": {
    "lines_to_next_cell": 2
   },
   "outputs": [
    {
     "data": {
      "image/png": "[encoded data removed]",
      "text/plain": [
       "<Figure size 640x480 with 1 Axes>"
      ]
     },
     "metadata": {},
     "output_type": "display_data"
    }
   ],
   "source": [
    "fig, ax = plt.subplots()\n",
    "\n",
    "sigs_ip = point_cloud.point_data[\"sigma_ip\"]\n",
    "sigs_ip_zz = sigs_ip[:, 2]\n",
    "zs_ip = point_cloud.points[:, 2]\n",
    "\n",
    "ax.scatter(zs_ip, sigs_ip_zz, label=\"ip data\")\n",
    "\n",
    "zs_ref = np.linspace(-2, 0)\n",
    "sigs_zz_ref = 3e4 * zs_ref\n",
    "\n",
    "ax.plot(zs_ref, sigs_zz_ref, label=\"reference\")\n",
    "\n",
    "ax.legend()\n",
    "ax.set_ylabel(r\"$\\sigma_{zz}$\")\n",
    "ax.set_xlabel(\"$z$\")"
   ]
  },
  {
   "cell_type": "code",
   "execution_count": 10,
   "id": "d2e20f04-8bd1-4bf9-81dd-e773e14ad016",
   "metadata": {},
   "outputs": [],
   "source": [
    "# sigma_zz ranges between 0 and -60000, so an absolute tolerance of 0.4 or 0.65 is OK\n",
    "assert np.allclose(sigs_ip[:, [0, 1, 3, 4, 5]], 0, atol=0.4, rtol=0)\n",
    "assert np.allclose(\n",
    "    sigs_ip_zz, 3e4 * zs_ip, atol=0.65, rtol=0\n",
    ")  # shows that the z order of the points in the point cloud are not messed up"
   ]
  }
 ],
 "metadata": {
  "kernelspec": {
   "display_name": "Python 3 (ipykernel)",
   "language": "python",
   "name": "python3"
  },
  "language_info": {
   "codemirror_mode": {
    "name": "ipython",
    "version": 3
   },
   "file_extension": ".py",
   "mimetype": "text/x-python",
   "name": "python",
   "nbconvert_exporter": "python",
   "pygments_lexer": "ipython3",
   "version": "3.10.8"
  }
 },
 "nbformat": 4,
 "nbformat_minor": 5
}
