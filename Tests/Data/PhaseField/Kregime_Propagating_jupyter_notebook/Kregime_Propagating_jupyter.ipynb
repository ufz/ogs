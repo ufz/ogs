{
 "cells": [
  {
   "cell_type": "raw",
   "metadata": {},
   "source": [
    "+++\n",
    "author = \"Mostafa Mollaali, Keita Yoshioka\"\n",
    "date = \"2023-03-03\"\n",
    "title = \"Hydraulic Fracturing in the Toughness-Dominated Regime\"\n",
    "web_subsection = \"phase-field\"\n",
    "+++\n"
   ]
  },
  {
   "cell_type": "markdown",
   "metadata": {},
   "source": [
    "## Hydraulic Fracturing in the Toughness-Dominated Regime\n"
   ]
  },
  {
   "cell_type": "markdown",
   "metadata": {},
   "source": [
    "Under the toughness-dominated regime without leak-off, the fluid viscosity dissipation is negligible compared to the energy released for fracture surface formation (**Detournay _et al._, 2016**). Therefore, in this regime, we can neglect the pressure loss within the fracture and use the Sneddon solution for crack opening (**Bourdin _et al._, 2012**, **Sneddon et al., 1969**) to determine the pressure and length evolution.\n",
    "\n",
    "The work of the pressure force is as follows:\n",
    "\n",
    "$$\n",
    "\\begin{equation}\n",
    "\\mathcal{W}(R) =\\frac{2 p^2 a^2}{E'}.\n",
    "\\end{equation}\n",
    "$$\n",
    "\n",
    "Applying Clapeyron's theorem, the elastic energy can be determined as\n",
    "\n",
    "$$\n",
    "\\begin{equation}\n",
    "\\mathcal{E}(R) =-\\frac{\\pi p^2 a^2}{E'},\n",
    "\\end{equation}\n",
    "$$\n",
    "and the energy release rate with respect to the crack length $a$ propagating along the initial inclination is\n",
    "$$\n",
    "\\begin{equation}\n",
    "G(R) = - \\frac{\\partial \\mathcal{E}}{\\partial (2 a)} = \\frac{\\pi p^2 a}{E'}.\n",
    "\\end{equation}\n",
    "$$\n",
    "\n",
    "Griffith\\'s criterion (**Griffith _et al._, 1920**) states that the fracture propagates when $G=G_c$ and the critical volume for crack propagation is $V_c := \\sqrt{\\dfrac{4 \\pi G_c a^3}{E' }}$ in a quasi-static volume control setting (the fracture propagation is always unstable with pressure control).\n",
    "\n",
    "\n",
    "The evolution of the corresponding pressure and fracture length\n",
    "$$\n",
    "\\begin{equation}\n",
    "p(V) =\n",
    "\\begin{cases}\n",
    "\\dfrac{E' V}{2 \\pi a_0^2} &\\text{for} V <  V_c \\\\\n",
    "\\left[  \\dfrac{2 E' G_c^2}{\\pi V} \\right] ^{\\frac{1}{3}}&\\text{for}    V \\geq V_c,\n",
    "\\end{cases}\n",
    "\\end{equation}\n",
    "$$\n",
    "\n",
    "$$\n",
    "\\begin{equation}\n",
    "a(V) =\n",
    "\\begin{cases}\n",
    "a_0 & V <  V_c \\\\\n",
    "\\left[ \\dfrac{E' V^2}{4 \\pi G_c} \\right ] ^{\\frac{1}{3}} &    V \\geq V_c.\n",
    "\\end{cases}\n",
    "\\end{equation}\n",
    "$$"
   ]
  },
  {
   "cell_type": "markdown",
   "metadata": {},
   "source": [
    "# Problem Description\n",
    "\n",
    "Based on Sneddon\\'s solution (**Sneddon et al., 1969**), we verified the model with plane-strain hydraulic fracture propagation in a toughness-dominated regime. In an infinite 2D domain, the problem was solved with a line fracture $[-a_0, a_0] \\times \\{0\\}$ ($a_0$ = 0.05). We considered a large finite domain $[-40a_0,40a_0] \\times [-40a_0,40a_0]$ to account for the infinite boundaries in the closed-form solution. The effective size of an element, $h$, is $1\\times10^{-2}$."
   ]
  },
  {
   "cell_type": "markdown",
   "metadata": {},
   "source": [
    "![Schematic view of hydraulic fracturing problem and Boundary conditions](./figures/Model_propagating_straight.png#one-half \"Schematic view of hydraulic fracturing problem and Boundary conditions.\")"
   ]
  },
  {
   "cell_type": "markdown",
   "metadata": {},
   "source": [
    "* In order to  have the hydraulic fracturing in the toughness dominated-regime, add, $\\texttt{<pressurized_crack_scheme>propagating</pressurized_crack_scheme>}$ in the project file.\n",
    "* **Yoshioka _et al._, 2019**  provides additional information on the implementation, use of real material properties, and rescaling of the phase-field energy functional.\n"
   ]
  },
  {
   "cell_type": "markdown",
   "metadata": {},
   "source": [
    "# Input Data"
   ]
  },
  {
   "cell_type": "markdown",
   "metadata": {},
   "source": [
    "Taking advantage of the linearity of the system, the simulations were run with the dimensionless properties listed in the Table below."
   ]
  },
  {
   "cell_type": "markdown",
   "metadata": {},
   "source": [
    "| **Name**                       | **Value**         | **Symbol** |\n",
    "|--------------------------------|------------------ |------------|\n",
    "| _Young's modulus_              | 1                 | $E$        |\n",
    "| _Poisson's ratio_              | 0.15              | $\\nu$      |\n",
    "| _Fracture toughness_           | 1                 | $G_{c}$    |\n",
    "| _Regularization parameter_     | 2$h$              | $\\ell_s$   |\n",
    "| _Length_                       | 4                 | $L$        |\n",
    "| _Height_                       | 4                 | $H$        |\n",
    "| _Initial crack length_         | 0.1               | $2a_0$     |"
   ]
  },
  {
   "cell_type": "code",
   "execution_count": 1,
   "metadata": {
    "lines_to_next_cell": 2
   },
   "outputs": [],
   "source": [
    "from ogs6py import ogs\n",
    "import numpy as np\n",
    "import ogs6py\n",
    "import matplotlib.pyplot as plt\n",
    "import time\n",
    "import math\n",
    "import gmsh\n",
    "import os\n",
    "from ogstools.msh2vtu import run\n",
    "import argparse\n",
    "import re\n",
    "\n",
    "pi = math.pi\n",
    "plt.rcParams[\"text.usetex\"] = True"
   ]
  },
  {
   "cell_type": "code",
   "execution_count": 2,
   "metadata": {
    "lines_to_next_cell": 2
   },
   "outputs": [],
   "source": [
    "E = 1.0\n",
    "nu = 0.15\n",
    "Gc = 1.0\n",
    "h = 0.01\n",
    "a0 = 0.05  # half of the initial crack length\n",
    "\n",
    "phasefield_model = \"AT1\"  # AT1/AT2"
   ]
  },
  {
   "cell_type": "markdown",
   "metadata": {},
   "source": [
    "# Output Directory  and Project File"
   ]
  },
  {
   "cell_type": "code",
   "execution_count": 3,
   "metadata": {
    "lines_to_next_cell": 2
   },
   "outputs": [],
   "source": [
    "# file's name\n",
    "prj_name = \"Kregime_Propagating.prj\"\n",
    "meshname = \"mesh_full_pf\"\n",
    "\n",
    "out_dir = os.environ.get(\"OGS_TESTRUNNER_OUT_DIR\", \"_out\")\n",
    "os.makedirs(out_dir, exist_ok=True)"
   ]
  },
  {
   "cell_type": "markdown",
   "metadata": {
    "lines_to_next_cell": 2
   },
   "source": [
    "# Mesh Generation\n"
   ]
  },
  {
   "cell_type": "code",
   "execution_count": 25,
   "metadata": {
    "lines_to_next_cell": 2
   },
   "outputs": [],
   "source": [
    "def mesh_generation(lc, lc_fine):\n",
    "    \"\"\"\n",
    "    lc ... characteristic length for coarse meshing\n",
    "    lc_fine ... characteristic length for fine meshing\n",
    "    \"\"\"\n",
    "    L = 4.0  # Length\n",
    "    H = 4.0  # Height\n",
    "    b = 0.4  # Length/Height of subdomain with fine mesh\n",
    "\n",
    "    # Before using any functions in the Python API, Gmsh must be initialized\n",
    "    gmsh.initialize()\n",
    "    gmsh.option.setNumber(\"General.Terminal\", 1)\n",
    "    gmsh.model.add(\"rectangle\")\n",
    "\n",
    "    # Dimensions\n",
    "    dim0 = 0\n",
    "    dim1 = 1\n",
    "    dim2 = 2\n",
    "\n",
    "    # Points\n",
    "    gmsh.model.geo.addPoint(-L / 2, -H / 2, 0, lc, 1)\n",
    "    gmsh.model.geo.addPoint(L / 2, -H / 2, 0, lc, 2)\n",
    "    gmsh.model.geo.addPoint(L / 2, H / 2, 0, lc, 3)\n",
    "    gmsh.model.geo.addPoint(-L / 2, H / 2, 0, lc, 4)\n",
    "    gmsh.model.geo.addPoint(-b, -b - lc_fine / 2, 0, lc_fine, 5)\n",
    "    gmsh.model.geo.addPoint(b, -b - lc_fine / 2, 0, lc_fine, 6)\n",
    "    gmsh.model.geo.addPoint(b, b + lc_fine / 2, 0, lc_fine, 7)\n",
    "    gmsh.model.geo.addPoint(-b, b + lc_fine / 2, 0, lc_fine, 8)\n",
    "\n",
    "    # Lines\n",
    "    gmsh.model.geo.addLine(1, 2, 1)\n",
    "    gmsh.model.geo.addLine(2, 3, 2)\n",
    "    gmsh.model.geo.addLine(3, 4, 3)\n",
    "    gmsh.model.geo.addLine(4, 1, 4)\n",
    "    gmsh.model.geo.addLine(5, 6, 5)\n",
    "    gmsh.model.geo.addLine(6, 7, 6)\n",
    "    gmsh.model.geo.addLine(7, 8, 7)\n",
    "    gmsh.model.geo.addLine(8, 5, 8)\n",
    "\n",
    "    # Line loops\n",
    "    gmsh.model.geo.addCurveLoop([1, 2, 3, 4], 1)\n",
    "    gmsh.model.geo.addCurveLoop([5, 6, 7, 8], 2)\n",
    "\n",
    "    # Add plane surfaces defined by one or more curve loops.\n",
    "    gmsh.model.geo.addPlaneSurface([1, 2], 1)\n",
    "    gmsh.model.geo.addPlaneSurface([2], 2)\n",
    "\n",
    "    gmsh.model.geo.synchronize()\n",
    "\n",
    "    # Prepare structured grid\n",
    "    gmsh.model.geo.mesh.setTransfiniteCurve(\n",
    "        6, math.ceil(2 * b / lc_fine + 2), \"Progression\", 1\n",
    "    )\n",
    "    gmsh.model.geo.mesh.setTransfiniteCurve(\n",
    "        8, math.ceil(2 * b / lc_fine + 2), \"Progression\", 1\n",
    "    )\n",
    "    gmsh.model.geo.mesh.setTransfiniteSurface(2, \"Alternate\")\n",
    "\n",
    "    gmsh.model.geo.mesh.setRecombine(dim2, 1)\n",
    "    gmsh.model.geo.mesh.setRecombine(dim2, 2)\n",
    "\n",
    "    gmsh.model.geo.synchronize()\n",
    "\n",
    "    # Physical groups\n",
    "    P1 = gmsh.model.addPhysicalGroup(dim0, [1])\n",
    "    gmsh.model.setPhysicalName(dim0, P1, \"P1\")\n",
    "\n",
    "    P2 = gmsh.model.addPhysicalGroup(dim0, [2])\n",
    "    gmsh.model.setPhysicalName(dim0, P2, \"P2\")\n",
    "\n",
    "    Bottom = gmsh.model.addPhysicalGroup(dim1, [1])\n",
    "    gmsh.model.setPhysicalName(dim1, Bottom, \"Bottom\")\n",
    "\n",
    "    Right = gmsh.model.addPhysicalGroup(dim1, [2])\n",
    "    gmsh.model.setPhysicalName(dim1, Right, \"Right\")\n",
    "\n",
    "    Top = gmsh.model.addPhysicalGroup(dim1, [3])\n",
    "    gmsh.model.setPhysicalName(dim1, Top, \"Top\")\n",
    "\n",
    "    Left = gmsh.model.addPhysicalGroup(dim1, [4])\n",
    "    gmsh.model.setPhysicalName(dim1, Left, \"Left\")\n",
    "\n",
    "    Computational_domain = gmsh.model.addPhysicalGroup(dim2, [1, 2])\n",
    "    gmsh.model.setPhysicalName(dim2, Computational_domain, \"Computational_domain\")\n",
    "    gmsh.model.geo.synchronize()\n",
    "\n",
    "    output_file = f\"{out_dir}/\" + meshname + \".msh\"\n",
    "    gmsh.model.mesh.generate(dim2)\n",
    "    gmsh.write(output_file)\n",
    "    gmsh.finalize()"
   ]
  },
  {
   "cell_type": "markdown",
   "metadata": {
    "lines_to_next_cell": 2
   },
   "source": [
    "# Pre-Processing"
   ]
  },
  {
   "cell_type": "code",
   "execution_count": 26,
   "metadata": {},
   "outputs": [],
   "source": [
    "def pre_processing(h, a0):\n",
    "    mesh = pv.read(f\"{out_dir}/mesh_full_pf_domain.vtu\")\n",
    "    phase_field = np.ones((len(mesh.points), 1))\n",
    "    pv.set_plot_theme(\"document\")\n",
    "\n",
    "    for node_id, x in enumerate(mesh.points):\n",
    "        if (\n",
    "            (mesh.center[0] - x[0]) <= a0 + 0.001 * h\n",
    "            and (mesh.center[0] - x[0]) >= -a0 - 0.001 * h\n",
    "            and (mesh.center[1] - x[1]) < h / 2 + 0.001 * h\n",
    "            and (mesh.center[1] - x[1]) > -h / 2 - 0.001 * h\n",
    "        ):\n",
    "            phase_field[node_id] = 0.0\n",
    "\n",
    "    mesh.point_data[\"phase-field\"] = phase_field\n",
    "    mesh.save(f\"{out_dir}/mesh_full_pf_OGS_pf_ic.vtu\")"
   ]
  },
  {
   "cell_type": "markdown",
   "metadata": {},
   "source": [
    "# Run the Simulation\n"
   ]
  },
  {
   "cell_type": "code",
   "execution_count": 27,
   "metadata": {},
   "outputs": [],
   "source": [
    "import pyvista as pv\n",
    "\n",
    "pv.set_plot_theme(\"document\")\n",
    "if \"PYVISTA_HEADLESS\" in os.environ:\n",
    "    pv.start_xvfb()\n",
    "pv.set_jupyter_backend(\"static\")\n",
    "\n",
    "\n",
    "def Hydraulic_Fracturing_Toughness_Dominated_numerical(h, phasefield_model):\n",
    "    # mesh properties\n",
    "    ls = 2 * h\n",
    "    # generate prefix from properties\n",
    "    filename = \"results_h_%0.4f_%s\" % (h, phasefield_model)\n",
    "    mesh_generation(0.1, h)\n",
    "    # Convert GMSH (.msh) meshes to VTU meshes appropriate for OGS simulation.\n",
    "    input_file = f\"{out_dir}/\" + meshname + \".msh\"\n",
    "    args = argparse.Namespace(\n",
    "        filename=input_file,\n",
    "        output=f\"{out_dir}/\" + meshname,\n",
    "        dim=0,\n",
    "        delz=False,\n",
    "        swapxy=False,\n",
    "        rdcd=True,\n",
    "        ogs=True,\n",
    "        ascii=False,\n",
    "    )\n",
    "    run(args)\n",
    "\n",
    "    # As a preprocessing step, define the initial phase-field (crack).\n",
    "    pre_processing(h, a0)\n",
    "    # change properties in prj file #For more information visit: https://github.com/joergbuchwald/ogs6py\n",
    "    model = ogs.OGS(\n",
    "        INPUT_FILE=prj_name,\n",
    "        PROJECT_FILE=f\"{out_dir}/{prj_name}\",\n",
    "        MKL=True,\n",
    "        args=f\"-o {out_dir}\",\n",
    "    )\n",
    "    model.replace_parameter_value(name=\"ls\", value=ls)\n",
    "    model.replace_text(phasefield_model, xpath=\"./processes/process/phasefield_model\")\n",
    "    model.replace_text(filename, xpath=\"./time_loop/output/prefix\")\n",
    "    model.write_input()\n",
    "    # run simulation with ogs\n",
    "    t0 = time.time()\n",
    "    print(\">>> OGS started execution ... <<<\")\n",
    "    ! ogs {out_dir}/{prj_name} -o {out_dir} > {out_dir}/log.txt\n",
    "    tf = time.time()\n",
    "    print(\">>> OGS terminated execution  <<< Elapsed time: \", round(tf - t0, 2), \" s.\")"
   ]
  },
  {
   "cell_type": "code",
   "execution_count": 28,
   "metadata": {
    "lines_to_next_cell": 2,
    "scrolled": true
   },
   "outputs": [
    {
     "name": "stdout",
     "output_type": "stream",
     "text": [
      "Info    : Meshing 1D...\n",
      "Info    : [  0%] Meshing curve 1 (Line)\n",
      "Info    : [ 20%] Meshing curve 2 (Line)\n",
      "Info    : [ 30%] Meshing curve 3 (Line)\n",
      "Info    : [ 40%] Meshing curve 4 (Line)\n",
      "Info    : [ 50%] Meshing curve 5 (Line)\n",
      "Info    : [ 70%] Meshing curve 6 (Line)\n",
      "Info    : [ 80%] Meshing curve 7 (Line)\n",
      "Info    : [ 90%] Meshing curve 8 (Line)\n",
      "Info    : Done meshing 1D (Wall 0.00119501s, CPU 0.001505s)\n",
      "Info    : Meshing 2D...\n",
      "Info    : [  0%] Meshing surface 1 (Plane, Frontal-Delaunay)\n",
      "Info    : [  0%] Blossom: 24032 internal 482 closed\n",
      "Info    : [  0%] Blossom recombination completed (Wall 0.410523s, CPU 0.409133s): 7878 quads, 0 triangles, 0 invalid quads, 0 quads with Q < 0.1, avg Q = 0.793024, min Q = 0.371315\n",
      "Info    : [ 50%] Meshing surface 2 (Transfinite)\n",
      "Info    : Done meshing 2D (Wall 0.651176s, CPU 0.644329s)\n",
      "Info    : 14439 nodes 14848 elements\n",
      "Info    : Writing '_out/mesh_full_pf.msh'...\n",
      "Info    : Done writing '_out/mesh_full_pf.msh'\n",
      "Output: _out/mesh_full_pf\n",
      "\n",
      "Original mesh (read)\n",
      "14439 points in 3 dimensions; cells: 2 vertex, 160 line, 14358 quad; point_data=['gmsh:dim_tags']; cell_data=['gmsh:physical', 'gmsh:geometrical']; cell_sets=['P1', 'P2', 'Bottom', 'Right', 'Top', 'Left', 'Computational_domain', 'gmsh:bounding_entities']\n",
      "##\n",
      "Detected mesh dimension: 2\n",
      "##\n",
      "Domain mesh (written)\n",
      "14439 points in 3 dimensions; cells: 14358 quad; point_data=['original_node_number']; cell_data=['MaterialIDs']; cell_sets=[]\n",
      "##\n",
      "Boundary mesh (written)\n",
      "160 points in 3 dimensions; cells: 160 line; point_data=['bulk_node_ids']; cell_data=['bulk_elem_ids']; cell_sets=[]\n",
      "##\n",
      "Submesh P1 (written)\n",
      "1 points in 3 dimensions; cells: 1 vertex; point_data=['bulk_node_ids']; cell_data=['gmsh:physical']; cell_sets=[]\n",
      "##\n",
      "Submesh P2 (written)\n",
      "1 points in 3 dimensions; cells: 1 vertex; point_data=['bulk_node_ids']; cell_data=['gmsh:physical']; cell_sets=[]\n",
      "##\n",
      "Submesh Bottom (written)\n",
      "41 points in 3 dimensions; cells: 40 line; point_data=['bulk_node_ids']; cell_data=['bulk_elem_ids']; cell_sets=[]\n",
      "##\n",
      "Submesh Right (written)\n",
      "41 points in 3 dimensions; cells: 40 line; point_data=['bulk_node_ids']; cell_data=['bulk_elem_ids']; cell_sets=[]\n",
      "##\n",
      "Submesh Top (written)\n",
      "41 points in 3 dimensions; cells: 40 line; point_data=['bulk_node_ids']; cell_data=['bulk_elem_ids']; cell_sets=[]\n",
      "##\n",
      "Submesh Left (written)\n",
      "41 points in 3 dimensions; cells: 40 line; point_data=['bulk_node_ids']; cell_data=['bulk_elem_ids']; cell_sets=[]\n",
      "##\n",
      "Submesh Computational_domain (written)\n",
      "14439 points in 3 dimensions; cells: 14358 quad; point_data=['bulk_node_ids']; cell_data=['MaterialIDs']; cell_sets=[]\n",
      "##\n",
      ">>> OGS started execution ... <<<\n",
      ">>> OGS terminated execution  <<< Elapsed time:  864.93  s.\n"
     ]
    }
   ],
   "source": [
    "Hydraulic_Fracturing_Toughness_Dominated_numerical(h, phasefield_model)"
   ]
  },
  {
   "cell_type": "markdown",
   "metadata": {},
   "source": [
    "# Post-Processing"
   ]
  },
  {
   "cell_type": "markdown",
   "metadata": {
    "lines_to_next_cell": 2
   },
   "source": [
    "## Analytical Solution for the Evolution of Fracture Length and Pressure"
   ]
  },
  {
   "cell_type": "code",
   "execution_count": 29,
   "metadata": {
    "lines_to_next_cell": 2
   },
   "outputs": [],
   "source": [
    "def Analytical_solution(phasefield_model, h):\n",
    "    v = np.linspace(1e-10, 0.3, 31)\n",
    "    pres = np.linspace(0, 1.0, 31)\n",
    "    length = np.linspace(0, 1.0, 31)\n",
    "\n",
    "    ls = 2 * h\n",
    "\n",
    "    # Effective Gc and a for AT1/A2\n",
    "    if phasefield_model == \"AT1\":\n",
    "        Gc_ref = Gc * (3 * h / 8.0 / ls + 1.0)\n",
    "        a_eff = a0 * (1 + pi * ls / (4.0 * a0 * (3 * h / 8.0 / ls + 1.0)))\n",
    "    elif phasefield_model == \"AT2\":\n",
    "        Gc_ref = Gc * (h / (2.0 * ls) + 1.0)\n",
    "        a_eff = a0 * (1 + pi * ls / (4.0 * a0 * (h / (2.0 * ls) + 1.0)))\n",
    "\n",
    "    Eprime = E / (1 - nu**2)\n",
    "\n",
    "    V_c = (4 * pi * Gc_ref * a_eff**3 / Eprime) ** 0.5\n",
    "    P_c = (Eprime * Gc_ref / (pi * a_eff)) ** 0.5\n",
    "\n",
    "    for i in range(len(v)):\n",
    "        if v[i] < V_c:\n",
    "            pres[i] = Eprime * v[i] / (2 * pi * a_eff**2) / P_c\n",
    "            length[i] = a_eff\n",
    "        else:\n",
    "            pres[i] = (2 * Eprime * Gc_ref**2 / (pi * v[i])) ** 0.333333 / P_c\n",
    "            length[i] = (Eprime * v[i] ** 2 / (4 * pi * Gc_ref)) ** 0.333333\n",
    "\n",
    "    return v, pres, length, Gc_ref, P_c\n",
    "\n",
    "\n",
    "fluidVolume_analytical = Analytical_solution(phasefield_model, h)[0]\n",
    "pressure_analytical = Analytical_solution(phasefield_model, h)[1]\n",
    "length_analytical = Analytical_solution(phasefield_model, h)[2]\n",
    "Gc_ref = Analytical_solution(phasefield_model, h)[3]\n",
    "P_c = Analytical_solution(phasefield_model, h)[4]"
   ]
  },
  {
   "cell_type": "markdown",
   "metadata": {},
   "source": [
    "## Phase Field Versus Analytical Solution for Fracture Length and Pressure Evolution"
   ]
  },
  {
   "cell_type": "markdown",
   "metadata": {},
   "source": [
    "In phase field approach, we can retrieve the crack length $a$ as:\n",
    "\n",
    "$$\n",
    "\\begin{equation}\n",
    "\ta = \\dfrac{\\displaystyle \\int_\\Omega \\frac{G_c}{4 c_n} \\left(\\frac{(1-v)^n}{\\ell}+ \\ell |\\nabla v|^2\\right)\\,\\mathrm{d} \\Omega }{G_c  \\left( \\dfrac{h}{4 c_n \\ell} + 1 \\right)}.\n",
    "\\end{equation}\n",
    "$$\n",
    "where $n=1$ corresponds to $\\texttt{AT}_1$ ($c_n = 2/3$) and $n=2$ to $\\texttt{AT}_2$ ($c_n = 1/2$)."
   ]
  },
  {
   "cell_type": "code",
   "execution_count": 30,
   "metadata": {
    "lines_to_next_cell": 2
   },
   "outputs": [
    {
     "name": "stderr",
     "output_type": "stream",
     "text": [
      "/tmp/ipykernel_2977068/1796410303.py:2: MatplotlibDeprecationWarning: Auto-removal of overlapping axes is deprecated since 3.6 and will be removed two minor releases later; explicitly call ax.remove() as needed.\n",
      "  plt.subplot(1, 2, 1)\n"
     ]
    },
    {
     "data": {
      "image/png": "[encoded data removed]",
      "text/plain": [
       "<Figure size 1200x400 with 2 Axes>"
      ]
     },
     "metadata": {},
     "output_type": "display_data"
    }
   ],
   "source": [
    "plt.subplots(figsize=(12, 4))\n",
    "plt.subplot(1, 2, 1)\n",
    "fluid_volume = []\n",
    "surface_energy = []\n",
    "# Open the file for reading\n",
    "with open(f\"{out_dir}/log.txt\") as fd:\n",
    "    # Iterate over the lines\n",
    "    for i, line in enumerate(fd):\n",
    "        match_surface_energy = re.search(\n",
    "            r\"\"\"Surface energy: (\\d+\\.\\d*) Pressure work: (\\d+\\.\\d*)  at time: (\\d+\\.\\d*)\"\"\",\n",
    "            line,\n",
    "        )\n",
    "        if match_surface_energy:\n",
    "            surface_energy.append(float(match_surface_energy.group(1)))\n",
    "            fluid_volume.append(float(match_surface_energy.group(3)))\n",
    "\n",
    "plt.grid(linestyle=\"dashed\")\n",
    "plt.xlabel(\"Volume\")\n",
    "plt.ylabel(\"Crack length\")\n",
    "plt.plot(fluidVolume_analytical, length_analytical, \"black\", label=\"Closed form\")\n",
    "plt.plot(\n",
    "    fluid_volume,\n",
    "    np.array(surface_energy[:]) / Gc_ref / 2,\n",
    "    \"bo\",\n",
    "    fillstyle=\"none\",\n",
    "    label=\"Phase-field\",\n",
    ")\n",
    "legend = plt.legend(loc=\"lower right\")\n",
    "\n",
    "plt.subplot(1, 2, 2)\n",
    "fluid_volume = []\n",
    "pressure = []\n",
    "# Open the file for reading\n",
    "with open(f\"{out_dir}/log.txt\") as fd:\n",
    "    # Iterate over the lines\n",
    "    for i, line in enumerate(fd):\n",
    "        match_pressure = re.search(\n",
    "            r\"\"\"Pressure: (\\d+\\.\\d*) at time: (\\d+\\.\\d*)\"\"\", line\n",
    "        )\n",
    "        if match_pressure:\n",
    "            fluid_volume.append(float(match_pressure.group(2)))\n",
    "            pressure.append(float(match_pressure.group(1)))\n",
    "\n",
    "\n",
    "plt.xlabel(\"Volume\")\n",
    "plt.ylabel(\"$p_f/p_c$\")\n",
    "plt.plot(fluidVolume_analytical, pressure_analytical, \"black\", label=\"Closed form\")\n",
    "plt.plot(\n",
    "    np.array(fluid_volume[:]),\n",
    "    np.array(pressure[:]) / P_c,\n",
    "    \"g<\",\n",
    "    fillstyle=\"none\",\n",
    "    label=\"Phase-field\",\n",
    ")\n",
    "plt.grid(linestyle=\"dashed\")\n",
    "legend = plt.legend(loc=\"upper right\")\n",
    "plt.show()"
   ]
  },
  {
   "cell_type": "code",
   "execution_count": null,
   "metadata": {
    "lines_to_next_cell": 2
   },
   "outputs": [],
   "source": [
    "plt.subplots(figsize=(12, 4))\n",
    "plt.subplot(1, 2, 1)\n",
    "plt.grid(linestyle=\"dashed\")\n",
    "plt.plot(\n",
    "    fluidVolume_analytical[1:],\n",
    "    (\n",
    "        abs(length_analytical[1:] - np.array(surface_energy[:]) / (2 * Gc_ref))\n",
    "        / (np.array(surface_energy[:]) / (2 * Gc_ref))\n",
    "    )\n",
    "    * 100,\n",
    "    \"-.ob\",\n",
    "    fillstyle=\"none\",\n",
    "    label=\"Closed form\",\n",
    ")\n",
    "plt.ylim([0.0, 10])\n",
    "plt.xlabel(\"Volume\")\n",
    "plt.ylabel(\n",
    "    r\"$\\frac{|a_\\mathrm{num}-{a}_\\mathrm{ana}|}{{a}_\\mathrm{num}}\\times 100\\%$\",\n",
    "    fontsize=14,\n",
    ")\n",
    "\n",
    "plt.subplot(1, 2, 2)\n",
    "plt.grid(linestyle=\"dashed\")\n",
    "plt.plot(\n",
    "    fluidVolume_analytical[1:],\n",
    "    (abs(pressure_analytical[1:] - np.array(pressure[:]) / P_c) / pressure[:]) * 100,\n",
    "    \"-.<g\",\n",
    "    fillstyle=\"none\",\n",
    "    label=\"Closed form\",\n",
    ")\n",
    "plt.ylim([0.0, 10])\n",
    "plt.xlabel(\"Volume\")\n",
    "plt.ylabel(\n",
    "    r\"$\\frac{|p_\\mathrm{num}-{p}_\\mathrm{ana}|}{{p}_\\mathrm{num}}\\times 100\\%$\",\n",
    "    fontsize=14,\n",
    ")\n",
    "plt.show()"
   ]
  },
  {
   "attachments": {},
   "cell_type": "markdown",
   "metadata": {},
   "source": [
    "In order to reduce computation time, we perform the simulation with a coarse mesh; the results for the $\\texttt{AT}_1$ Model with a mesh size of $h=0.001$ are provided below."
   ]
  },
  {
   "attachments": {},
   "cell_type": "markdown",
   "metadata": {},
   "source": [
    "$\\texttt{AT}_1$ Model:"
   ]
  },
  {
   "cell_type": "markdown",
   "metadata": {},
   "source": [
    "![Phase field versus analytical solution for fracture length and pressure evolution](./figures/AT1_VolDev_h0p001.png#one-half \"Phase field versus analytical solution for fracture length and pressure evolution, $\\texttt{AT}_1$.\")"
   ]
  },
  {
   "attachments": {},
   "cell_type": "markdown",
   "metadata": {},
   "source": [
    "![Error between the Phase field and analytical solution for fracture length and pressure evolution.](./figures/error_AT1_VolDev_h0p001.png#one-half \"Error between the Phase field and analytical solution for fracture length and pressure evolution, $\\texttt{AT}_1$.\")"
   ]
  },
  {
   "cell_type": "markdown",
   "metadata": {},
   "source": [
    "## Hydraulic Fracturing Animation  (Using Phase Field Approach)"
   ]
  },
  {
   "cell_type": "code",
   "execution_count": 4,
   "metadata": {
    "lines_to_next_cell": 2
   },
   "outputs": [],
   "source": [
    "from IPython.display import Image\n",
    "import pyvista as pv\n",
    "\n",
    "pv.set_plot_theme(\"document\")\n",
    "pv.set_jupyter_backend(\"static\")"
   ]
  },
  {
   "cell_type": "code",
   "execution_count": 5,
   "metadata": {
    "lines_to_next_cell": 2
   },
   "outputs": [],
   "source": [
    "filename = \"results_h_%0.4f_%s\" % (h, phasefield_model)\n",
    "reader = pv.get_reader(f\"{out_dir}/\" + filename + \".pvd\")\n",
    "\n",
    "plotter = pv.Plotter(shape=(1, 2), border=False)\n",
    "plotter.open_gif(f\"{out_dir}/Kregime_Propagating.gif\")\n",
    "for time_value in reader.time_values:\n",
    "    reader.set_active_time_value(time_value)\n",
    "    mesh = reader.read()[0]\n",
    "    sargs = dict(\n",
    "        title=\"Phase field\",\n",
    "        title_font_size=16,\n",
    "        label_font_size=12,\n",
    "        n_labels=5,\n",
    "        position_x=0.25,\n",
    "        position_y=0.15,\n",
    "        fmt=\"%.1f\",\n",
    "        width=0.5,\n",
    "    )\n",
    "    p = pv.Plotter(shape=(1, 2), border=False)\n",
    "    clim = [0, 1.0]\n",
    "    points = mesh.point_data[\"phasefield\"].shape[0]\n",
    "    xs = mesh.points[:, 0]\n",
    "    ys = mesh.points[:, 1]\n",
    "    pf = mesh.point_data[\"phasefield\"]\n",
    "    plotter.clear()\n",
    "    plotter.add_mesh(\n",
    "        mesh,\n",
    "        scalars=pf,\n",
    "        show_scalar_bar=True,\n",
    "        colormap=\"coolwarm\",\n",
    "        clim=clim,\n",
    "        scalar_bar_args=sargs,\n",
    "        lighting=False,\n",
    "    )\n",
    "    plotter.add_text(f\"Time: {time_value:0.02f}\", color=\"black\")\n",
    "\n",
    "    plotter.view_xy()\n",
    "    plotter.write_frame()\n",
    "\n",
    "plotter.close()"
   ]
  },
  {
   "cell_type": "markdown",
   "metadata": {},
   "source": [
    "## Phase Field Profile at Last Time Step"
   ]
  },
  {
   "cell_type": "code",
   "execution_count": 6,
   "metadata": {
    "lines_to_next_cell": 2
   },
   "outputs": [
    {
     "data": {
      "image/png": "[encoded data removed]",
      "text/plain": [
       "<PIL.Image.Image image mode=RGB size=1000x500>"
      ]
     },
     "metadata": {},
     "output_type": "display_data"
    }
   ],
   "source": [
    "mesh = reader.read()[0]\n",
    "\n",
    "points = mesh.point_data[\"phasefield\"].shape[0]\n",
    "xs = mesh.points[:, 0]\n",
    "ys = mesh.points[:, 1]\n",
    "pf = mesh.point_data[\"phasefield\"]\n",
    "\n",
    "clim = [0, 1.0]\n",
    "sargs = dict(\n",
    "    title=\"Phase field\",\n",
    "    title_font_size=16,\n",
    "    label_font_size=12,\n",
    "    n_labels=5,\n",
    "    position_x=0.25,\n",
    "    position_y=0.0,\n",
    "    fmt=\"%.1f\",\n",
    "    width=0.5,\n",
    ")\n",
    "plotter = pv.Plotter(shape=(1, 2), border=False)\n",
    "plotter.add_mesh(\n",
    "    mesh,\n",
    "    scalars=pf,\n",
    "    show_edges=False,\n",
    "    show_scalar_bar=True,\n",
    "    colormap=\"coolwarm\",\n",
    "    clim=clim,\n",
    "    scalar_bar_args=sargs,\n",
    "    lighting=False,\n",
    ")\n",
    "\n",
    "plotter.view_xy()\n",
    "plotter.camera.zoom(1.5)\n",
    "plotter.window_size = [1000, 500]\n",
    "plotter.show()"
   ]
  },
  {
   "cell_type": "markdown",
   "metadata": {},
   "source": [
    "## References\n",
    "\n",
    "[1] Detournay, Emmanuel. _Mechanics of hydraulic fractures._ Annual review of fluid mechanics 48 (2016): 311-339.\n",
    "\n",
    "[2] Bourdin, Blaise, Chukwudi Chukwudozie, and Keita Yoshioka. _A variational approach to the numerical simulation of hydraulic fracturing._ In SPE annual technical conference and exhibition. OnePetro, 2012.\n",
    "\n",
    "[3] Sneddon, Ian Naismith, and Morton Lowengrub. _Crack problems in the classical theory of elasticity._ 1969, 221 P (1969).\n",
    "\n",
    "[4] Griffith, Alan Arnold. _VI. The phenomena of rupture and flow in solids._ Philosophical transactions of the royal society of london. Series A, containing papers of a mathematical or physical character 221, no. 582-593 (1921): 163-198.\n",
    "\n",
    "[5] Yoshioka, Keita, Francesco Parisio, Dmitri Naumov, Renchao Lu, Olaf Kolditz, and Thomas Nagel. _Comparative verification of discrete and smeared numerical approaches for the simulation of hydraulic fracturing._ GEM-International Journal on Geomathematics 10, no. 1 (2019): 1-35.\n"
   ]
  }
 ],
 "metadata": {
  "kernelspec": {
   "display_name": "Python 3",
   "language": "python",
   "name": "python3"
  },
  "language_info": {
   "codemirror_mode": {
    "name": "ipython",
    "version": 3
   },
   "file_extension": ".py",
   "mimetype": "text/x-python",
   "name": "python",
   "nbconvert_exporter": "python",
   "pygments_lexer": "ipython3",
   "version": "3.11.2 (main, Feb 16 2023, 03:15:23) [Clang 14.0.0 (clang-1400.0.29.202)]"
  },
  "vscode": {
   "interpreter": {
    "hash": "aee8b7b246df8f9039afb4144a1f6fd8d2ca17a180786b69acc140d282b71a49"
   }
  }
 },
 "nbformat": 4,
 "nbformat_minor": 2
}
