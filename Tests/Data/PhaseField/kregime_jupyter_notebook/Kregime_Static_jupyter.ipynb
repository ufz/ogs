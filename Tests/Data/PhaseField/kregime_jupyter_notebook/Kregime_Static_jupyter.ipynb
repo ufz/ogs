{
 "cells": [
  {
   "cell_type": "raw",
   "metadata": {},
   "source": [
    "+++\n",
    "author = \"Mostafa Mollaali, Keita Yoshioka\"\n",
    "date = \"2022-12-06\"\n",
    "title = \"Static fracture opening under a constant pressure – Sneddon solution\"\n",
    "web_subsection = \"phase-field\"\n",
    "+++\n"
   ]
  },
  {
   "cell_type": "markdown",
   "metadata": {},
   "source": [
    "## Problem description\n",
    "\n",
    "### Static fracture opening under a constant pressure\n",
    "\n",
    "Consider a line fracture $[-a_0, a_0] \\times \\{0\\}$ ($a_0$ = 0.1) with no external loading and an internal fluid pressure of $p=1$  was applied to the fracture surfaces. The results are compared to the analytical solution (**Sneddon et al., 1969**) for the fracture half-opening:\n",
    "\\begin{eqnarray}\n",
    "u(x,0) = \\frac{2 p a_0}{ E'} \\sqrt{1-(x/a_0)^2}\n",
    ",\n",
    "\\label{eq:sneddon_2D_static}\n",
    "\\end{eqnarray}\n",
    "\n",
    "where $u$ is the displacement $E'$ is the plane strain Young's modulus ($E' = E/(1-\\nu^2)$) with $\\nu$ is Poisson’s ratio, $p$ is the fluid pressure inside the fracture. To account for the infinite boundaries in the closed-form solution, we considered a large finite domain $ [-10a_o,10a_o] \\times [-10a_o,10a_o]$. The effective element size, $h$, is $1\\times10^{-2}$.\n"
   ]
  },
  {
   "cell_type": "markdown",
   "metadata": {},
   "source": [
    "![Schematic view of Sneddon problem and Boundary conditions](./figures/Model_sneddon_straight.png#one-half \"Schematic view of Sneddon problem and Boundary conditions.\")"
   ]
  },
  {
   "cell_type": "markdown",
   "metadata": {},
   "source": [
    "* In order to  have a static pressurized fracture, add, $\\texttt{<pressurized_crack_scheme>static</pressurized_crack_scheme>}$ in the project file. It's important to note that static pressurized fracture implementation assumes $p=1$. **Yoshioka _et al._, 2019** discussed using real material properties and rescaling  the phase-field energy functional.\n"
   ]
  },
  {
   "cell_type": "markdown",
   "metadata": {},
   "source": [
    "# Input data"
   ]
  },
  {
   "cell_type": "markdown",
   "metadata": {},
   "source": [
    "The material and geometrical properties are listed in the Table below. It's worth noting that the properties are dimensionless and scaled."
   ]
  },
  {
   "cell_type": "markdown",
   "metadata": {},
   "source": [
    "| **Name**                       | **Value**         | **Symbol** |\n",
    "|--------------------------------|------------------ |------------|\n",
    "| _Young's modulus_              | 1                 | $E$        |\n",
    "| _Poisson's ratio_              | 0.15              | $\\nu$      |\n",
    "| _Fracture toughness_           | 1                 | $G_{c}$    |\n",
    "| _Regularization parameter_     | 2$h$              | $\\ell_s$   |\n",
    "| _Pressure_                     | 1                 | $p$        |\n",
    "| _Length_                       | 2                 | $L$        |\n",
    "| _Height_                       | 2                 | $H$        |\n",
    "| _Initial crack length_         | 0.2               | $2a_0$     |"
   ]
  },
  {
   "cell_type": "code",
   "execution_count": 9,
   "metadata": {},
   "outputs": [],
   "source": [
    "import math\n",
    "import os\n",
    "import time\n",
    "\n",
    "import gmsh\n",
    "import matplotlib.pyplot as plt\n",
    "import numpy as np\n",
    "import ogstools as ogs\n",
    "\n",
    "pi = math.pi\n",
    "plt.rcParams[\"text.usetex\"] = True"
   ]
  },
  {
   "cell_type": "code",
   "execution_count": 10,
   "metadata": {},
   "outputs": [],
   "source": [
    "E = 1.0\n",
    "nu = 0.15\n",
    "Gc = 1.0\n",
    "P = 1.0\n",
    "h = 0.01\n",
    "\n",
    "\n",
    "Orientation = 0\n",
    "a0 = 0.1  # half of the initial crack length\n",
    "n_slices = (\n",
    "    2 * (round(3.0 * a0 / h)) + 1\n",
    ")  # number of slices for calcute width of fracture\n",
    "\n",
    "phasefield_model = \"AT1\""
   ]
  },
  {
   "cell_type": "code",
   "execution_count": 11,
   "metadata": {},
   "outputs": [],
   "source": [
    "h_list = [0.01]  # list of mesh sizes (h)\n",
    "# h_list =[0.01, 0.005, 0.0025]  # list of mesh sizes (h), for mesh sensitivity"
   ]
  },
  {
   "cell_type": "markdown",
   "metadata": {},
   "source": [
    "# Output directory  and project file"
   ]
  },
  {
   "cell_type": "code",
   "execution_count": 12,
   "metadata": {},
   "outputs": [],
   "source": [
    "# file's name\n",
    "prj_name = \"Kregime_Static.prj\"\n",
    "meshname = \"mesh_full_pf\"\n",
    "\n",
    "from pathlib import Path\n",
    "\n",
    "out_dir = Path(os.environ.get(\"OGS_TESTRUNNER_OUT_DIR\", \"_out\"))\n",
    "if not out_dir.exists():\n",
    "    out_dir.mkdir(parents=True)"
   ]
  },
  {
   "cell_type": "markdown",
   "metadata": {},
   "source": [
    "# Mesh generation\n"
   ]
  },
  {
   "cell_type": "code",
   "execution_count": 13,
   "metadata": {},
   "outputs": [],
   "source": [
    "def mesh_generation(lc, lc_fine):\n",
    "    \"\"\"\n",
    "    lc ... characteristic length for coarse meshing\n",
    "    lc_fine ... characteristic length for fine meshing\n",
    "    \"\"\"\n",
    "    L = 4.0  # Length\n",
    "    H = 4.0  # Height\n",
    "    b = 0.4  # Length/Height of subdomain with fine mesh\n",
    "\n",
    "    # Before using any functions in the Python API, Gmsh must be initialized\n",
    "    gmsh.initialize()\n",
    "    gmsh.option.setNumber(\"General.Terminal\", 1)\n",
    "    gmsh.model.add(\"rectangle\")\n",
    "\n",
    "    # Dimensions\n",
    "    dim1 = 1\n",
    "    dim2 = 2\n",
    "\n",
    "    # Points\n",
    "    gmsh.model.geo.addPoint(-L / 2, -H / 2, 0, lc, 1)\n",
    "    gmsh.model.geo.addPoint(L / 2, -H / 2, 0, lc, 2)\n",
    "    gmsh.model.geo.addPoint(L / 2, H / 2, 0, lc, 3)\n",
    "    gmsh.model.geo.addPoint(-L / 2, H / 2, 0, lc, 4)\n",
    "    gmsh.model.geo.addPoint(-b, -b - lc_fine / 2, 0, lc_fine, 5)\n",
    "    gmsh.model.geo.addPoint(b, -b - lc_fine / 2, 0, lc_fine, 6)\n",
    "    gmsh.model.geo.addPoint(b, b + lc_fine / 2, 0, lc_fine, 7)\n",
    "    gmsh.model.geo.addPoint(-b, b + lc_fine / 2, 0, lc_fine, 8)\n",
    "\n",
    "    # Lines\n",
    "    gmsh.model.geo.addLine(1, 2, 1)\n",
    "    gmsh.model.geo.addLine(2, 3, 2)\n",
    "    gmsh.model.geo.addLine(3, 4, 3)\n",
    "    gmsh.model.geo.addLine(4, 1, 4)\n",
    "    gmsh.model.geo.addLine(5, 6, 5)\n",
    "    gmsh.model.geo.addLine(6, 7, 6)\n",
    "    gmsh.model.geo.addLine(7, 8, 7)\n",
    "    gmsh.model.geo.addLine(8, 5, 8)\n",
    "\n",
    "    # Line loops\n",
    "    gmsh.model.geo.addCurveLoop([1, 2, 3, 4], 1)\n",
    "    gmsh.model.geo.addCurveLoop([5, 6, 7, 8], 2)\n",
    "\n",
    "    # Add plane surfaces defined by one or more curve loops.\n",
    "    gmsh.model.geo.addPlaneSurface([1, 2], 1)\n",
    "    gmsh.model.geo.addPlaneSurface([2], 2)\n",
    "\n",
    "    gmsh.model.geo.synchronize()\n",
    "\n",
    "    # Prepare structured grid\n",
    "    gmsh.model.geo.mesh.setTransfiniteCurve(\n",
    "        6, math.ceil(2 * b / lc_fine + 2), \"Progression\", 1\n",
    "    )\n",
    "    gmsh.model.geo.mesh.setTransfiniteCurve(\n",
    "        8, math.ceil(2 * b / lc_fine + 2), \"Progression\", 1\n",
    "    )\n",
    "    gmsh.model.geo.mesh.setTransfiniteSurface(2, \"Alternate\")\n",
    "\n",
    "    gmsh.model.geo.mesh.setRecombine(dim2, 1)\n",
    "    gmsh.model.geo.mesh.setRecombine(dim2, 2)\n",
    "\n",
    "    gmsh.model.geo.synchronize()\n",
    "\n",
    "    # Physical groups\n",
    "    Bottom = gmsh.model.addPhysicalGroup(dim1, [1])\n",
    "    gmsh.model.setPhysicalName(dim1, Bottom, \"Bottom\")\n",
    "\n",
    "    Right = gmsh.model.addPhysicalGroup(dim1, [2])\n",
    "    gmsh.model.setPhysicalName(dim1, Right, \"Right\")\n",
    "\n",
    "    Top = gmsh.model.addPhysicalGroup(dim1, [3])\n",
    "    gmsh.model.setPhysicalName(dim1, Top, \"Top\")\n",
    "\n",
    "    Left = gmsh.model.addPhysicalGroup(dim1, [4])\n",
    "    gmsh.model.setPhysicalName(dim1, Left, \"Left\")\n",
    "\n",
    "    Computational_domain = gmsh.model.addPhysicalGroup(dim2, [1, 2])\n",
    "    gmsh.model.setPhysicalName(dim2, Computational_domain, \"Computational_domain\")\n",
    "    gmsh.model.geo.synchronize()\n",
    "\n",
    "    output_file = f\"{out_dir}/\" + meshname + \".msh\"\n",
    "    gmsh.model.mesh.generate(dim2)\n",
    "    gmsh.write(output_file)\n",
    "    gmsh.finalize()"
   ]
  },
  {
   "cell_type": "markdown",
   "metadata": {},
   "source": [
    "# Pre process\n"
   ]
  },
  {
   "cell_type": "code",
   "execution_count": 14,
   "metadata": {},
   "outputs": [],
   "source": [
    "def pre_processing(h, a0):\n",
    "    mesh = pv.read(f\"{out_dir}/mesh_full_pf_domain.vtu\")\n",
    "    phase_field = np.ones((len(mesh.points), 1))\n",
    "    pv.set_plot_theme(\"document\")\n",
    "\n",
    "    for node_id, x in enumerate(mesh.points):\n",
    "        if (\n",
    "            (mesh.center[0] - x[0]) <= a0 + 0.001 * h\n",
    "            and (mesh.center[0] - x[0]) >= -a0 - 0.001 * h\n",
    "            and (mesh.center[1] - x[1]) < h / 2 + 0.001 * h\n",
    "            and (mesh.center[1] - x[1]) > -h / 2 - 0.001 * h\n",
    "        ):\n",
    "            phase_field[node_id] = 0.0\n",
    "\n",
    "    mesh.point_data[\"phase-field\"] = phase_field\n",
    "    mesh.save(f\"{out_dir}/mesh_full_pf_OGS_pf_ic.vtu\")"
   ]
  },
  {
   "cell_type": "markdown",
   "metadata": {},
   "source": [
    "# Run the simulation \n"
   ]
  },
  {
   "cell_type": "code",
   "execution_count": 15,
   "metadata": {},
   "outputs": [],
   "source": [
    "import pyvista as pv\n",
    "\n",
    "pv.set_plot_theme(\"document\")\n",
    "pv.set_jupyter_backend(\"static\")\n",
    "\n",
    "\n",
    "def sneddon_numerical(h):\n",
    "    # mesh properties\n",
    "    ls = 2 * h\n",
    "    # generate prefix from properties\n",
    "    filename = f\"results_h_{h:0.4f}\"\n",
    "    mesh_generation(0.1, h)\n",
    "    # Convert GMSH (.msh) meshes to VTU meshes appropriate for OGS simulation.\n",
    "    input_file = f\"{out_dir}/\" + meshname + \".msh\"  # noqa: F841\n",
    "    ! msh2vtu --keep_ids -o {out_dir} {input_file}\n",
    "    # As a preprocessing step, define the initial phase-field (crack).\n",
    "    pre_processing(h, a0)\n",
    "    # change properties in prj file #For more information visit: https://ogstools.opengeosys.org/stable/reference/ogstools.ogs6py.html\n",
    "    model = ogs.Project(\n",
    "        input_file=prj_name,\n",
    "        output_file=f\"{out_dir}/{prj_name}\",\n",
    "        MKL=True,\n",
    "        args=f\"-o {out_dir}\",\n",
    "    )\n",
    "\n",
    "    gml_file = Path(\"./Kregime_Static.gml\").resolve()\n",
    "\n",
    "    model.replace_parameter_value(name=\"ls\", value=ls)\n",
    "    model.replace_text(gml_file, xpath=\"./geometry\")\n",
    "    model.replace_text(filename, xpath=\"./time_loop/output/prefix\")\n",
    "    model.write_input()\n",
    "    # run simulation with ogs\n",
    "    t0 = time.time()\n",
    "    print(\">>> OGS started execution ... <<<\")\n",
    "\n",
    "    !ogs {out_dir}/{prj_name} -o {out_dir} -m {out_dir} > {out_dir}/ogs-out.txt\n",
    "    assert _exit_code == 0  # noqa: F821\n",
    "    tf = time.time()\n",
    "    print(\">>> OGS terminated execution  <<< Elapsed time: \", round(tf - t0, 2), \" s.\")"
   ]
  },
  {
   "cell_type": "code",
   "execution_count": 18,
   "metadata": {
    "scrolled": true
   },
   "outputs": [
    {
     "name": "stdout",
     "output_type": "stream",
     "text": [
      "[2022-12-12 13:24:30.160] [ogs] [\u001b[33m\u001b[1mwarning\u001b[m] Array 'vtkOriginalPointIds' in VTU file uses unsupported data type 'idtype' of size 8. The data array will not be available.\n",
      "[2022-12-12 13:24:30.161] [ogs] [\u001b[33m\u001b[1mwarning\u001b[m] Array 'vtkOriginalCellIds' in VTU file uses unsupported data type 'idtype' of size 8. The data array will not be available.\n",
      "[2022-12-12 13:24:30.161] [ogs] [\u001b[32minfo\u001b[m] Reordering nodes... \n",
      "[2022-12-12 13:24:30.172] [ogs] [\u001b[32minfo\u001b[m] Corrected 0 elements.\n",
      "[2022-12-12 13:24:30.209] [ogs] [\u001b[32minfo\u001b[m] VTU file written.\n",
      ">>> OGS started execution ... <<<\n",
      ">>> OGS terminated execution  <<< Elapsed time:  307.0  s.\n"
     ]
    }
   ],
   "source": [
    "for h_j in h_list:\n",
    "    sneddon_numerical(h=h_j)"
   ]
  },
  {
   "cell_type": "markdown",
   "metadata": {},
   "source": [
    "# Post processing "
   ]
  },
  {
   "cell_type": "code",
   "execution_count": 19,
   "metadata": {},
   "outputs": [],
   "source": [
    "# As a post-process, we calculate the fracture opening.\n",
    "def width_calculation(filename):\n",
    "    reader = pv.get_reader(f\"{out_dir}/{filename}.pvd\")\n",
    "    # --------------------------------------------------------------------------------\n",
    "    # Active the results of last time step\n",
    "    # --------------------------------------------------------------------------------\n",
    "    reader.set_active_time_value(reader.time_values[-1])\n",
    "    mesh = reader.read()[0]\n",
    "    # --------------------------------------------------------------------------------\n",
    "    # define grad d\n",
    "    # --------------------------------------------------------------------------------\n",
    "    mesh_d = mesh.compute_derivative(scalars=\"phasefield\")\n",
    "    mesh_d[\"gradient\"]\n",
    "\n",
    "    def gradients_to_dict(arr):\n",
    "        \"\"\"A helper method to label the gradients into a dictionary.\"\"\"\n",
    "        keys = np.array(\n",
    "            [\"grad_dx\", \"grad_dy\", \"grad_dz\", \"grad_dx\", \"grad_dy\", \"grad_dz\"]\n",
    "        )\n",
    "        keys = keys.reshape((2, 3))[:, : arr.shape[1]].ravel()\n",
    "        return dict(zip(keys, mesh_d[\"gradient\"].T))\n",
    "\n",
    "    gradients_d = gradients_to_dict(mesh_d[\"gradient\"])\n",
    "    mesh.point_data.update(gradients_d)\n",
    "    # --------------------------------------------------------------------------------\n",
    "    # define width at nodes\n",
    "    # --------------------------------------------------------------------------------\n",
    "    disp = mesh.point_data[\"displacement\"]\n",
    "    grad_dx = mesh.point_data[\"grad_dx\"]\n",
    "    grad_dy = mesh.point_data[\"grad_dy\"]\n",
    "    num_points = disp.shape\n",
    "    Wnode = np.zeros(num_points[0])\n",
    "    for i, _x in enumerate(mesh.points):\n",
    "        u_x = disp[i][0]\n",
    "        u_y = disp[i][1]\n",
    "        gd_x = grad_dx[i]\n",
    "        gd_y = grad_dy[i]\n",
    "\n",
    "        Wnode[i] = 0.5 * (u_x * gd_x + u_y * gd_y)\n",
    "    mesh.point_data[\"Wnode\"] = Wnode\n",
    "    # --------------------------------------------------------------------------------\n",
    "    # define width at nodes\n",
    "    # --------------------------------------------------------------------------------\n",
    "    # Normalize the vector\n",
    "    normal = [np.cos(Orientation), np.sin(Orientation), 0]\n",
    "    # Make points along that vector for the extent of your slices\n",
    "    point_a = mesh.center + np.array([1.5 * a0, 0, 0])\n",
    "    point_b = mesh.center + np.array([-1.5 * a0, 0, 0])\n",
    "    dist_a_b = ((point_b[0] - point_a[0]) ** 2 + (point_b[1] - point_a[1]) ** 2) ** 0.5\n",
    "    # Define the line/points for the slices\n",
    "    line = pv.Line(point_a, point_b, n_slices)\n",
    "    width_line = np.zeros(len(line.points))\n",
    "    r_i = np.zeros(len(line.points))\n",
    "    # Generate all of the slices\n",
    "    slices = pv.MultiBlock()\n",
    "\n",
    "    for i, point in enumerate(line.points):\n",
    "        slices.append(mesh.slice(normal=normal, origin=point))\n",
    "        slice_mesh = mesh.slice(normal=normal, origin=point)\n",
    "        y_slice = slice_mesh.points[:, 1]\n",
    "        Wnode_slice = slice_mesh.point_data[\"Wnode\"]\n",
    "        width_i = np.trapz(Wnode_slice, x=y_slice)  # noqa: NPY201\n",
    "        if width_i >= 0:\n",
    "            width_line[i] = width_i\n",
    "        r_i[i] = (\n",
    "            (point[0] - point_a[0]) ** 2 + (point[1] - point_a[1]) ** 2\n",
    "        ) ** 0.5 - dist_a_b / 2\n",
    "\n",
    "    return r_i, width_line"
   ]
  },
  {
   "cell_type": "markdown",
   "metadata": {},
   "source": [
    "# Sneddon"
   ]
  },
  {
   "cell_type": "code",
   "execution_count": 20,
   "metadata": {},
   "outputs": [],
   "source": [
    "def sneddon(h, ls, phasefield_model):\n",
    "    # Effective a for AT1/A2\n",
    "    if phasefield_model == \"AT1\":\n",
    "        a_eff = a0 * (1 + pi * ls / (4.0 * a0 * (3 * h / 8.0 / ls + 1.0)))\n",
    "    elif phasefield_model == \"AT2\":\n",
    "        a_eff = a0 * (1 + pi * ls / (4.0 * a0 * (h / (2.0 * ls) + 1.0)))\n",
    "\n",
    "    x = np.linspace(-1.0 * a_eff, a_eff, 40)\n",
    "    uy = []\n",
    "    for i in range(len(x)):\n",
    "        uy.append(\n",
    "            2 * a_eff * (1 - nu**2) * P / E * math.sqrt(1.0 - ((x[i]) / (a_eff)) ** 2)\n",
    "        )\n",
    "\n",
    "    return x, uy, a_eff"
   ]
  },
  {
   "cell_type": "markdown",
   "metadata": {},
   "source": [
    "## Opening profile"
   ]
  },
  {
   "cell_type": "code",
   "execution_count": 21,
   "metadata": {},
   "outputs": [
    {
     "name": "stdout",
     "output_type": "stream",
     "text": [
      "results_h_0.0100\n"
     ]
    },
    {
     "data": {
      "image/png": "[encoded data removed]",
      "text/plain": [
       "<Figure size 640x480 with 1 Axes>"
      ]
     },
     "metadata": {},
     "output_type": "display_data"
    }
   ],
   "source": [
    "color = [\"-.k\", \"ko\", \"-.r\", \"ro\", \"-.b\", \"bo\", \"-.g\", \"go\"]\n",
    "Label = [\"Closed form solution\", \"VPF-FEM\"]\n",
    "lineWIDTH = [1.5, 1.5, 1.5]\n",
    "\n",
    "for j, h_j in enumerate(h_list):\n",
    "    r_i_num = []\n",
    "    width_line_num = []\n",
    "    filename = f\"results_h_{h_j:0.4f}\"\n",
    "    print(filename)\n",
    "    width_calculation(filename)\n",
    "    r_i_num = width_calculation(filename)[0]\n",
    "    width_line_num = width_calculation(filename)[1]\n",
    "    ls = 2 * h_j\n",
    "\n",
    "    x_Sneddon = sneddon(h_j, ls, phasefield_model)[0]\n",
    "    uy_Sneddon = sneddon(h_j, ls, phasefield_model)[1]\n",
    "    a_eff_Sneddon = sneddon(h_j, ls, phasefield_model)[2]\n",
    "    plt.plot(\n",
    "        np.array(x_Sneddon[:]),\n",
    "        np.array(uy_Sneddon[:]),\n",
    "        color[2 * j],\n",
    "        fillstyle=\"none\",\n",
    "        markersize=0,\n",
    "        linewidth=lineWIDTH[0],\n",
    "        label=f\"Closed form solution - $h= ${h_j:0.4f}\",\n",
    "    )\n",
    "    plt.plot(\n",
    "        np.array(r_i_num[:]),\n",
    "        np.array(width_line_num[:]),\n",
    "        color[2 * j + 1],\n",
    "        fillstyle=\"none\",\n",
    "        markersize=6,\n",
    "        linewidth=lineWIDTH[1],\n",
    "        label=f\"VPF - $h =${h_j:0.4f}\",\n",
    "    )\n",
    "    # ------------------------------------------------------------------------\n",
    "plt.rcParams[\"figure.figsize\"] = [40, 20]\n",
    "plt.rcParams[\"figure.dpi\"] = 1600\n",
    "plt.ylabel(\"$w_n$ [m]\", fontsize=14)\n",
    "plt.xlabel(\"$r$ [m]\", fontsize=14)\n",
    "plt.grid(linestyle=\"dashed\")\n",
    "plt.title(f\"{phasefield_model}\")\n",
    "\n",
    "legend = plt.legend(bbox_to_anchor=(1.04, 1), loc=\"upper left\")\n",
    "plt.show()"
   ]
  },
  {
   "cell_type": "markdown",
   "metadata": {},
   "source": [
    "To decrease computing time, we perform the simulation with an one coarse mesh; Mesh sensitivity can be investigated in order to assess the convergence of the opening profile for various mesh discretizations. Following are the mesh sensivity results for for Models $\\texttt{AT}_1$ and $\\texttt{AT}_2$ ($h=0.01,~0.005,~\\text{and} ~0.0025$ m.)"
   ]
  },
  {
   "cell_type": "markdown",
   "metadata": {},
   "source": [
    "![Crack opening profiles of  VPF ($\\texttt{AT}_1$) with different mesh sizes compared against the Sneddon solution.](./figures/AT1_crackopening_mesh_sensitivity.png#one-half \"Crack opening profiles of  VPF ($\\texttt{AT}_1$) with different mesh sizes compared against the Sneddon solution.\")\n",
    "![Crack opening profiles of  VPF ($\\texttt{AT}_2$) with different mesh sizes compared against the Sneddon solution.](./figures/AT2_crackopening_mesh_sensitivity.png#one-half \"Crack opening profiles of VPF ($\\texttt{AT}_2$) with different mesh sizes compared against the Sneddon solution.\")"
   ]
  },
  {
   "cell_type": "markdown",
   "metadata": {},
   "source": [
    "\n",
    "Our mesh size sensitivity study shows even with coarse mesh. The results away from crack tips agree well with the Sneddon solution. Using finer mesh demonstrates that the opening along the whole crack length is accurate compared with the closed-form solution.\n",
    "\n",
    "It's worth noting that we estimate width as part of post-processing (using the line integral and a given crack normal vector). However, near crack tips the crack normal vector is different to the given normal vector, so the width values are inaccurate near crack tips. For the sake of simplicity, we neglect determining the normal crack vector here; for more information on the line integral approach, see **Yoshioka et al., 2020**."
   ]
  },
  {
   "cell_type": "markdown",
   "metadata": {},
   "source": [
    "## References\n",
    "\n",
    "[1]  Yoshioka, Keita, Francesco Parisio, Dmitri Naumov, Renchao Lu, Olaf Kolditz, and Thomas Nagel. _Comparative verification of discrete and smeared numerical approaches for the simulation of hydraulic fracturing._ GEM-International Journal on Geomathematics **10**, no. 1 (2019): 1-35.\n",
    "\n",
    "[2] Yoshioka, Keita, Dmitri Naumov, and Olaf Kolditz. _On crack opening computation in variational phase-field models for fracture._ Computer Methods in Applied Mechanics and Engineering 369 (2020): 113210.\n",
    "\n",
    "[3] Sneddon, Ian Naismith, and Morton Lowengrub. _Crack problems in the classical theory of elasticity._ 1969, 221 P (1969).\n"
   ]
  }
 ],
 "metadata": {
  "kernelspec": {
   "display_name": ".venv",
   "language": "python",
   "name": "python3"
  },
  "language_info": {
   "codemirror_mode": {
    "name": "ipython",
    "version": 3
   },
   "file_extension": ".py",
   "mimetype": "text/x-python",
   "name": "python",
   "nbconvert_exporter": "python",
   "pygments_lexer": "ipython3",
   "version": "3.10.10"
  },
  "vscode": {
   "interpreter": {
    "hash": "4a8f0e927bf0755adf2843cdf6d680af97f8f4935bcd7ee3569251fe70cb6ce8"
   }
  }
 },
 "nbformat": 4,
 "nbformat_minor": 2
}
