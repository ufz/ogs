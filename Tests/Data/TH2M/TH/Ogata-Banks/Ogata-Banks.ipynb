{
 "cells": [
  {
   "cell_type": "raw",
   "id": "10a2c579",
   "metadata": {},
   "source": [
    "+++\n",
    "title = \"Ogata-Banks Problem\"\n",
    "date = \"2022-10-19\"\n",
    "author = \"Norbert Grunwald\"\n",
    "image = \"TH2M/TH/Ogata-Banks/Ogata-Banks.png\"\n",
    "web_subsection = \"th2m\"\n",
    "coupling = \"th\"\n",
    "weight = 5\n",
    "+++\n"
   ]
  },
  {
   "cell_type": "markdown",
   "id": "7e122cfa",
   "metadata": {},
   "source": [
    "|<div style=\"width:300px\"><img src=\"https://www.ufz.de/static/custom/weblayout/DefaultInternetLayout/img/logos/ufz_transparent_de_blue.png\" width=\"300\"/></div>|<div style=\"width:300px\"><img src=\"https://discourse.opengeosys.org/uploads/default/original/1X/a288c27cc8f73e6830ad98b8729637a260ce3490.png\" width=\"300\"/></div>|<div style=\"width:330px\"><img src=\"https://github.com/nagelt/Teaching_Scripts/raw/9d9e29ecca4b04eaf7397938eacbf116d37ddc93/Images/TUBAF_Logo_blau.png\" width=\"300\"/></div>|\n",
    "|---|---|--:|"
   ]
  },
  {
   "cell_type": "markdown",
   "id": "b3ff0733",
   "metadata": {},
   "source": [
    "# Advective-Diffusive transport (Ogata-Banks)"
   ]
  },
  {
   "cell_type": "markdown",
   "id": "9f9760f6",
   "metadata": {},
   "source": [
    "The Ogata-Banks analytical solution of the 1D advection-dispersion equation of heat for a point $x$ in time $t$ reads:\n",
    "\n",
    "$ T(x,t) = \\frac{T_0-T_i}{2}\\left[\\operatorname{erfc}\\left(\\frac{x-v_xt}{\\sqrt{4Dt}}\\right)+\\operatorname{exp}\\left(\\frac{xv_x}{D}\\right)\\operatorname{erfc}\\left(\\frac{x+v_xt}{\\sqrt{4Dt}}\\right)\\right]+T_i$\n",
    "\n",
    "where $T_0$ is the constant temperature at $x=0$ and $T_i$ is initial temperature at $t=0$, $v_x$ is the constant velocity of the fluid medium, and D is thermal diffusivity given by\n",
    "\n",
    "$D=\\frac{\\lambda}{\\rho c_p}$\n",
    "\n",
    "where $\\lambda$ is the thermal heat conductivity, $\\rho$ is density and $c_p$ is the specific heat capacity of the fluid medium.\n",
    "\n",
    "---\n",
    "\n",
    "The weak form of the energy balance equation (in simplified form for single-phase fluid L and without gravity) in OGS-TH2M is:\n",
    "\n",
    "$\n",
    "\\int_\\Omega\n",
    "(\\Sigma_\\alpha\\rho_\\alpha u_\\alpha)'_\\mathrm{S}\n",
    "\\,\\delta T\\,d\\Omega\n",
    "-\\int_\\Omega \\rho_\\mathrm{L} h_\\mathrm{L}\\mathbf{w}_\\mathrm{LS}\\cdot\\nabla\\delta T\\,d\\Omega\n",
    "+\\int_\\Omega \\lambda^\\mathrm{eff}\\nabla T\\cdot\\nabla\\,\\delta T\\,d\\Omega\n",
    "+\\int_{\\partial\\Omega}\\underbrace{\\left(\\lambda^\\mathrm{eff}\\nabla T\n",
    "-\\rho_\\mathrm{L}h_\\mathrm{L}\\mathbf{w}_\\mathrm{LS}\\right)\\cdot\\mathbf{n}}_{=-q_n}\\,\\delta T\\,d\\Gamma\n",
    "$\n",
    "\n",
    "This results in an energy contribution across the Neumann boundaries that is dependent on the flowing medium and which may have to be compensated for by the boundary conditions."
   ]
  },
  {
   "cell_type": "markdown",
   "id": "8f0b09fb",
   "metadata": {},
   "source": [
    "## Material properties"
   ]
  },
  {
   "cell_type": "markdown",
   "id": "9446c689",
   "metadata": {},
   "source": [
    "\n",
    "\n"
   ]
  },
  {
   "cell_type": "code",
   "execution_count": 1,
   "id": "69a66f7a",
   "metadata": {},
   "outputs": [],
   "source": [
    "# Porosity\n",
    "phi = 0.15\n",
    "\n",
    "# Effective properties of the porous medium\n",
    "rho_eff = 1000\n",
    "cp_eff = 2000\n",
    "lambda_eff = 2.2\n",
    "\n",
    "# Thermal diffusivity\n",
    "alpha = lambda_eff / (rho_eff * cp_eff)\n"
   ]
  },
  {
   "cell_type": "markdown",
   "id": "d340928d",
   "metadata": {},
   "source": [
    "## Problem definition"
   ]
  },
  {
   "cell_type": "code",
   "execution_count": 2,
   "id": "9a9ed7b8",
   "metadata": {},
   "outputs": [],
   "source": [
    "# Initial temperature\n",
    "T_i = 300\n",
    "# Boundary condition left\n",
    "T_0 = 330\n",
    "\n",
    "# Time - domain\n",
    "\n",
    "# Helper function to simplify conversions from seconds to days and back\n",
    "def day(value):\n",
    "    # Converts seconds to days\n",
    "    return value / 86400\n",
    "\n",
    "def second(value):\n",
    "    # Converts days to seconds\n",
    "    return value * 86400\n",
    "\n",
    "# Time discretisation\n",
    "delta_time = second(0.5)\n",
    "max_time = second(500)\n",
    "\n",
    "domain_size = 50 # metre\n",
    "\n",
    "# Groundwater velocity\n",
    "v_x = 1.5e-6\n"
   ]
  },
  {
   "cell_type": "markdown",
   "id": "977de1b9",
   "metadata": {},
   "source": [
    "## Analytical solution"
   ]
  },
  {
   "cell_type": "code",
   "execution_count": 3,
   "id": "a6cc66a6",
   "metadata": {},
   "outputs": [],
   "source": [
    "import numpy as np\n",
    "from scipy.special import erfc\n",
    "\n",
    "def OgataBanks(t, x):\n",
    "    if type(t) != int and type(t) != np.float64:\n",
    "        # In order to avoid a division by zero, the time field is increased \n",
    "        # by a small time unit at the start time (t=0). This should have no \n",
    "        # effect on the result.\n",
    "        tiny = np.finfo(np.float64).tiny\n",
    "        t[t < tiny] = tiny\n",
    "    \n",
    "    d = np.sqrt(4.*alpha*t)\n",
    "    a1 = np.divide((x-v_x*t),d,where=t!=0)\n",
    "    a2 = np.divide((x+v_x*t),d,where=t!=0)\n",
    "    \n",
    "    result = (T_0-T_i) / 2. * (erfc(a1)+np.exp(v_x*x/alpha)*erfc(a2)) + T_i\n",
    "    return result\n"
   ]
  },
  {
   "cell_type": "markdown",
   "id": "26af13f5",
   "metadata": {},
   "source": [
    "## Numerical solution"
   ]
  },
  {
   "cell_type": "code",
   "execution_count": 4,
   "id": "5145b921",
   "metadata": {},
   "outputs": [],
   "source": [
    "import os\n",
    "\n",
    "out_dir = os.environ.get('OGS_TESTRUNNER_OUT_DIR', '_out')\n",
    "if not os.path.exists(out_dir):\n",
    "    os.makedirs(out_dir)\n"
   ]
  },
  {
   "cell_type": "code",
   "execution_count": 5,
   "id": "79da0d82",
   "metadata": {},
   "outputs": [
    {
     "data": {
      "text/plain": [
       "True"
      ]
     },
     "execution_count": 5,
     "metadata": {},
     "output_type": "execute_result"
    }
   ],
   "source": [
    "from ogs6py.ogs import OGS\n",
    "\n",
    "# Modifies the project file of the original cTest so that the simulation runs for a longer time.\n",
    "model=OGS(INPUT_FILE=\"ogata-banks.prj\", PROJECT_FILE=f\"{out_dir}/modified.prj\")\n",
    "model.replace_text(max_time, xpath=\"./time_loop/processes/process/time_stepping/t_end\")\n",
    "model.replace_text(delta_time, xpath=\"./time_loop/processes/process/time_stepping/timesteps/pair/delta_t\")\n",
    "# Output every timestep \n",
    "model.replace_text(1, xpath=\"./time_loop/output/timesteps/pair/each_steps\")\n",
    "model.write_input()\n"
   ]
  },
  {
   "cell_type": "code",
   "execution_count": 6,
   "id": "df54bc76",
   "metadata": {},
   "outputs": [
    {
     "name": "stdout",
     "output_type": "stream",
     "text": [
      "OGS finished with project file modified.prj.\n",
      "Execution took 85.29733037948608 s\n"
     ]
    }
   ],
   "source": [
    "# Run OGS\n",
    "model.run_model(logfile=f\"{out_dir}/out.txt\", args=f\"-o {out_dir} -m . -s .\")\n"
   ]
  },
  {
   "cell_type": "code",
   "execution_count": 7,
   "id": "6e29237c",
   "metadata": {},
   "outputs": [],
   "source": [
    "#Colors\n",
    "cls1 = ['#4a001e', '#731331', '#9f2945', '#cc415a', '#e06e85']\n",
    "cls2 = ['#0b194c', '#163670', '#265191', '#2f74b3', '#5d94cb']\n"
   ]
  },
  {
   "cell_type": "code",
   "execution_count": 8,
   "id": "300cf2de",
   "metadata": {},
   "outputs": [],
   "source": [
    "import vtuIO\n",
    "\n",
    "pvdfile = vtuIO.PVDIO(f\"{out_dir}/result_ogata-banks.pvd\", dim=2)\n",
    "\n",
    "# Get all written timesteps\n",
    "time = pvdfile.timesteps\n",
    "\n",
    "# Select individual timesteps for T vs. x plots for plotting\n",
    "time_steps = [second(10),second(100),second(200),second(300), second(500)]\n",
    "\n",
    "# 'Continuous' space axis for T vs. x plots for plotting\n",
    "length = np.linspace(0,domain_size,101)\n",
    "\n",
    "# Draws a line through the domain for sampling results\n",
    "x_axis=[(i,0,0) for i in length]\n",
    "\n",
    "# Discrete locations for T vs. t plots\n",
    "location = [1.,5.,10.,20.,50.]\n"
   ]
  },
  {
   "cell_type": "code",
   "execution_count": 9,
   "id": "594fef09",
   "metadata": {},
   "outputs": [],
   "source": [
    "# The sample locations have to be converted into a 'dict' for vtuIO\n",
    "observation_points = dict(('x='+str(x),(x,0.0,0.0)) for x in location)\n",
    "# Samples temperature field at the observation points for all timesteps\n",
    "T_over_t_at_x = pvdfile.read_time_series('temperature_interpolated', observation_points)\n"
   ]
  },
  {
   "cell_type": "code",
   "execution_count": 10,
   "id": "3884315b",
   "metadata": {},
   "outputs": [],
   "source": [
    "# Samples temperature field along the domain at certain timesteps\n",
    "T_over_x_at_t = []\n",
    "for t in range(0,len(time_steps)):\n",
    "    T_over_x_at_t.append(pvdfile.read_set_data(time_steps[t], \"temperature\", pointsetarray=x_axis))\n"
   ]
  },
  {
   "cell_type": "code",
   "execution_count": 11,
   "id": "eb62a589",
   "metadata": {},
   "outputs": [
    {
     "data": {
      "image/png": "[encoded data removed]",
      "text/plain": [
       "<Figure size 1008x432 with 2 Axes>"
      ]
     },
     "metadata": {
      "needs_background": "light"
     },
     "output_type": "display_data"
    }
   ],
   "source": [
    "import matplotlib.pyplot as plt\n",
    "plt.rcParams['figure.figsize'] = (14, 6)\n",
    "fig1, (ax1, ax2) = plt.subplots(1, 2)\n",
    "\n",
    "ax1.set_xlabel(\"$t$ / d\", fontsize=12)\n",
    "ax1.set_ylabel(\"$T$ / K\", fontsize=12)\n",
    "\n",
    "# Plot Temperature over time at five locations\n",
    "for key, T in T_over_t_at_x.items():\n",
    "    x = observation_points[key][0]\n",
    "    # Plot numerical solution\n",
    "    ax1.plot(day(time), T_over_t_at_x[key], color=cls1[location.index(x)], linewidth=3,\n",
    "             linestyle=\"--\", label=key+r\" m\")\n",
    "    # Plot analytical solution\n",
    "    ax1.plot(day(time), OgataBanks(time,x), color=cls1[location.index(x)], linewidth=2,\n",
    "             linestyle=\"-\")\n",
    "\n",
    "ax2.set_xlabel(\"$x$ / m\", fontsize=12)\n",
    "ax2.set_ylabel(\"$T$ / K\", fontsize=12)\n",
    "\n",
    "# Plot Temperature over domain at five moments\n",
    "for t in range(0,len(time_steps)):\n",
    "    s = r\"$t=$\"+str(day(time_steps[t]))+\"$\\,$d\"\n",
    "    ax2.plot(length, T_over_x_at_t[t], color=cls2[t], linewidth=3, linestyle=\"--\", label=s)\n",
    "    ax2.plot(length, OgataBanks(time_steps[t],length),color=cls2[t], linewidth=2, \\\n",
    "             linestyle=\"-\")\n",
    "\n",
    "ax1.legend()\n",
    "ax2.legend()\n",
    "fig1.savefig(f\"{out_dir}/ogata_banks.pdf\")\n"
   ]
  },
  {
   "cell_type": "markdown",
   "id": "f13293c9",
   "metadata": {},
   "source": [
    "For this discretisation, the numerical solution approximates well to the analytical one. Finer resolutions in the time discretisation reduce the deviations considerably. In this benchmark it is easy to see that too coarse resolutions (especially in the time discretisation) yield very plausible results, which can, however, deviate considerably from the exact solution. An analysis of the von Neumann stability criterion is worthwhile here. This criterium demands\n",
    "\n",
    "$$\\text{Ne}=\\frac{\\alpha\\Delta t}{\\left(\\Delta x\\right)^2}\\leq\\frac{1}{2}$$\n",
    "\n",
    "Evaluated for the problem at hand, the following value results:"
   ]
  },
  {
   "cell_type": "code",
   "execution_count": 12,
   "id": "d9256d47",
   "metadata": {},
   "outputs": [
    {
     "name": "stdout",
     "output_type": "stream",
     "text": [
      "1.644290657439446\n"
     ]
    }
   ],
   "source": [
    "# Spatial discretizations at the left boundary (smallest element)\n",
    "dx = 0.17 #m\n",
    "\n",
    "# von-Neumann-Stability-Criterion\n",
    "Ne = alpha * delta_time / (dx*dx)\n",
    "print (Ne)\n"
   ]
  },
  {
   "cell_type": "markdown",
   "id": "f0f59f03",
   "metadata": {},
   "source": [
    "The Neumann criterion is not met in this case. The smallest element is $\\Delta x=0.17\\text{m}$ in width. A suitable time step for this cell size would be"
   ]
  },
  {
   "cell_type": "code",
   "execution_count": 13,
   "id": "0f0aea29",
   "metadata": {},
   "outputs": [
    {
     "name": "stdout",
     "output_type": "stream",
     "text": [
      "Smallest timestep should not exceed 13136.363636363638 seconds.\n"
     ]
    }
   ],
   "source": [
    "dt = 0.5*(dx*dx)/alpha\n",
    "print(\"Smallest timestep should not exceed\",dt, \"seconds.\")\n"
   ]
  },
  {
   "cell_type": "markdown",
   "id": "e7d95ee2",
   "metadata": {},
   "source": [
    "Repeating the test with this time step should give much smaller deviations to the exact solution.\n",
    "\n",
    "However, the problem at hand has been spatially discretised where element widths are increasing from left to right. That means that the stability criteria is violated only at the left region of the domain.\n",
    "The minimum width that an element should have is can be determined by:"
   ]
  },
  {
   "cell_type": "code",
   "execution_count": 14,
   "id": "0e608f45",
   "metadata": {},
   "outputs": [
    {
     "name": "stdout",
     "output_type": "stream",
     "text": [
      "Minimum element size should be 0.3082855818879631  metre.\n"
     ]
    }
   ],
   "source": [
    "dx = np.sqrt(2*alpha*delta_time)\n",
    "print(\"Minimum element size should be\",dx,\" metre.\")\n"
   ]
  },
  {
   "cell_type": "markdown",
   "id": "f7678075",
   "metadata": {},
   "source": [
    "The elements located at approximately $x>1\\text{m}$ satisfy this criterion, therefore the solution presented here can be accepted as an approximation of the exact solution."
   ]
  }
 ],
 "metadata": {
  "kernelspec": {
   "display_name": ".venv",
   "language": "python",
   "name": "python3"
  },
  "language_info": {
   "codemirror_mode": {
    "name": "ipython",
    "version": 3
   },
   "file_extension": ".py",
   "mimetype": "text/x-python",
   "name": "python",
   "nbconvert_exporter": "python",
   "pygments_lexer": "ipython3",
   "version": "3.10.8 (main, Oct 13 2022, 09:48:40) [Clang 14.0.0 (clang-1400.0.29.102)]"
  },
  "vscode": {
   "interpreter": {
    "hash": "99f98b0875d01078cd28087d74fcb98ba3e814a2f158be930370408623897ead"
   }
  }
 },
 "nbformat": 4,
 "nbformat_minor": 5
}
